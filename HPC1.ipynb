{
  "cells": [
    {
      "cell_type": "code",
      "execution_count": null,
      "metadata": {
        "colab": {
          "base_uri": "https://localhost:8080/"
        },
        "id": "z5V2ODtNSo26",
        "outputId": "65302437-1627-4717-a8db-2d9a4bfee891"
      },
      "outputs": [
        {
          "name": "stdout",
          "output_type": "stream",
          "text": [
            "Depth-First Search (DFS): 0 1 3 4 2 5 6 \n",
            "Breadth-First Search (BFS): 0 1 2 3 4 5 6 \n",
            "\n"
          ]
        }
      ],
      "source": [
        "%%writefile parallel_bfsdfs.cpp\n",
        "#include <iostream>\n",
        "#include <vector>\n",
        "#include <omp.h>\n",
        "#include <queue>\n",
        "using namespace std;\n",
        "\n",
        "class Graph {\n",
        "    int V;\n",
        "    vector<vector<int>> adj;\n",
        "\n",
        "public:\n",
        "    Graph(int V) : V(V), adj(V) {}\n",
        "\n",
        "    void addedge(int v, int w) {\n",
        "        adj[v].push_back(w);\n",
        "    }\n",
        "\n",
        "    void paralleldfs(int startvertex) {\n",
        "        vector<bool> visited(V, false);\n",
        "\n",
        "        #pragma omp parallel\n",
        "        {\n",
        "            #pragma omp single\n",
        "            {\n",
        "                paralleldfsutil(startvertex, visited);\n",
        "            }\n",
        "        }\n",
        "    }\n",
        "\n",
        "    void paralleldfsutil(int v, vector<bool>& visited) {\n",
        "    bool alreadyVisited;\n",
        "\n",
        "    // Check and update visited safely\n",
        "    #pragma omp critical\n",
        "    {\n",
        "        alreadyVisited = visited[v];\n",
        "        if (!alreadyVisited) {\n",
        "            visited[v] = true;\n",
        "            cout << v << \" \";\n",
        "        }\n",
        "    }\n",
        "\n",
        "    if (alreadyVisited) return;\n",
        "\n",
        "    for (int n : adj[v]) {\n",
        "        #pragma omp task firstprivate(n)\n",
        "        paralleldfsutil(n, visited);\n",
        "    }\n",
        "\n",
        "    #pragma omp taskwait\n",
        "  }\n",
        "  void parallelBFS(int startVertex) {\n",
        "        vector<bool> visited(V, false);\n",
        "        queue<int> q;\n",
        "\n",
        "        visited[startVertex] = true;\n",
        "        q.push(startVertex);\n",
        "\n",
        "        while (!q.empty()) {\n",
        "            int v = q.front();\n",
        "            q.pop();\n",
        "            cout << v << \" \";\n",
        "\n",
        "            #pragma omp parallel for\n",
        "            for (int i = 0; i < adj[v].size(); ++i) {\n",
        "                int n = adj[v][i];\n",
        "                #pragma omp critical\n",
        "                {\n",
        "                    if (!visited[n]) {\n",
        "                        visited[n] = true;\n",
        "                        q.push(n);\n",
        "                    }\n",
        "                }\n",
        "            }\n",
        "        }\n",
        "    }\n",
        "};\n",
        "\n",
        "int main() {\n",
        "    Graph g(7);\n",
        "    g.addedge(0, 1);\n",
        "    g.addedge(0, 2);\n",
        "    g.addedge(1, 3);\n",
        "    g.addedge(1, 4);\n",
        "    g.addedge(2, 5);\n",
        "    g.addedge(2, 6);\n",
        "\n",
        "    cout << \"Parallel DFS output: \";\n",
        "    g.paralleldfs(0);\n",
        "    cout << endl;\n",
        "    cout << \"Parallel BFS output: \";\n",
        "    g.parallelBFS(0);\n",
        "    return 0;\n",
        "}"
      ]
    },
    {
      "cell_type": "code",
      "execution_count": null,
      "metadata": {},
      "outputs": [],
      "source": [
        "!g++ -fopenmp parallel_bfsdfs.cpp -o a"
      ]
    },
    {
      "cell_type": "code",
      "execution_count": null,
      "metadata": {},
      "outputs": [],
      "source": [
        "!./a"
      ]
    }
  ],
  "metadata": {
    "accelerator": "GPU",
    "colab": {
      "gpuType": "T4",
      "provenance": []
    },
    "kernelspec": {
      "display_name": "Python 3",
      "name": "python3"
    },
    "language_info": {
      "name": "python"
    }
  },
  "nbformat": 4,
  "nbformat_minor": 0
}
