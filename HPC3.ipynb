{
  "cells": [
    {
      "cell_type": "code",
      "execution_count": null,
      "metadata": {
        "colab": {
          "base_uri": "https://localhost:8080/"
        },
        "id": "7_3YJyCk6jSh",
        "outputId": "b5d7897e-bebe-4662-9ea8-90ba51414081"
      },
      "outputs": [
        {
          "name": "stdout",
          "output_type": "stream",
          "text": [
            "Writing Min_Max.cu\n"
          ]
        }
      ],
      "source": [
        "%%writefile Min_Max.cpp\n",
        "#include <stdio.h>\n",
        "#include <limits.h>\n",
        "#include <omp.h>\n",
        "\n",
        "#define N 1024\n",
        "\n",
        "int main() {\n",
        "    int a[N];\n",
        "    for (int i = 0; i < N; i++) a[i] = i + 1;\n",
        "\n",
        "    int min = INT_MAX, max = INT_MIN, sum = 0;\n",
        "\n",
        "    #pragma omp parallel for reduction(min:min) reduction(max:max) reduction(+:sum)\n",
        "    for (int i = 0; i < N; i++) {\n",
        "        if (a[i] < min) min = a[i];\n",
        "        if (a[i] > max) max = a[i];\n",
        "        sum += a[i];\n",
        "    }\n",
        "\n",
        "    printf(\"Min: %d\\nMax: %d\\nSum: %d\\nAverage: %.2f\\n\", min, max, sum, (float)sum / N);\n",
        "    return 0;\n",
        "}"
      ]
    },
    {
      "cell_type": "code",
      "execution_count": null,
      "metadata": {
        "id": "zyWu-iD8410y"
      },
      "outputs": [],
      "source": [
        "!g++ -fopenmp Min_Max.cpp -o a"
      ]
    },
    {
      "cell_type": "code",
      "execution_count": null,
      "metadata": {
        "colab": {
          "base_uri": "https://localhost:8080/"
        },
        "id": "oh5-hJKY6dm8",
        "outputId": "099eda92-9799-445d-830e-53476cdfbdcb"
      },
      "outputs": [
        {
          "name": "stdout",
          "output_type": "stream",
          "text": [
            "Minimum: 1\n",
            "Maximum: 9\n",
            "Sum: 45\n",
            "Average: 5\n"
          ]
        }
      ],
      "source": [
        "!./a"
      ]
    }
  ],
  "metadata": {
    "accelerator": "GPU",
    "colab": {
      "gpuType": "T4",
      "provenance": []
    },
    "kernelspec": {
      "display_name": "Python 3",
      "name": "python3"
    },
    "language_info": {
      "name": "python"
    }
  },
  "nbformat": 4,
  "nbformat_minor": 0
}
