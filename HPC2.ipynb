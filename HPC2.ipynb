{
  "cells": [
    {
      "cell_type": "code",
      "execution_count": null,
      "metadata": {
        "id": "yLrU7elwWWhW"
      },
      "outputs": [],
      "source": [
        "%%writefile bubble_merge_sort.cpp\n",
        "#include <stdio.h>\n",
        "#include <stdlib.h>\n",
        "#include <omp.h>\n",
        "\n",
        "#define SIZE 1000\n",
        "\n",
        "void swap(int *a, int *b) {\n",
        "    int temp = *a; *a = *b; *b = temp;\n",
        "}\n",
        "\n",
        "void parallelBubbleSort(int arr[], int n) {\n",
        "    for (int i = 0; i < n; i++) {\n",
        "        #pragma omp parallel for\n",
        "        for (int j = i % 2; j < n - 1; j += 2)\n",
        "            if (arr[j] > arr[j + 1])\n",
        "                swap(&arr[j], &arr[j + 1]);\n",
        "    }\n",
        "}\n",
        "\n",
        "void merge(int arr[], int l, int m, int r) {\n",
        "    int n1 = m - l + 1, n2 = r - m;\n",
        "    int *L = (int *)malloc(n1 * sizeof(int));\n",
        "    int *R = (int *)malloc(n2 * sizeof(int));\n",
        "    for (int i = 0; i < n1; i++) L[i] = arr[l + i];\n",
        "    for (int i = 0; i < n2; i++) R[i] = arr[m + 1 + i];\n",
        "\n",
        "    int i = 0, j = 0, k = l;\n",
        "    while (i < n1 && j < n2)\n",
        "        arr[k++] = (L[i] <= R[j]) ? L[i++] : R[j++];\n",
        "    while (i < n1) arr[k++] = L[i++];\n",
        "    while (j < n2) arr[k++] = R[j++];\n",
        "    free(L); free(R);\n",
        "}\n",
        "\n",
        "void parallelMergeSort(int arr[], int l, int r) {\n",
        "    if (l < r) {\n",
        "        int m = (l + r) / 2;\n",
        "        #pragma omp parallel sections\n",
        "        {\n",
        "            #pragma omp section\n",
        "            parallelMergeSort(arr, l, m);\n",
        "            #pragma omp section\n",
        "            parallelMergeSort(arr, m + 1, r);\n",
        "        }\n",
        "        merge(arr, l, m, r);\n",
        "    }\n",
        "}\n",
        "\n",
        "void fillArray(int arr[], int size) {\n",
        "    for (int i = 0; i < size; i++) arr[i] = rand() % 1000;\n",
        "}\n",
        "\n",
        "int main() {\n",
        "    int arr1[SIZE], arr2[SIZE];\n",
        "    fillArray(arr1, SIZE);\n",
        "    for (int i = 0; i < SIZE; i++) arr2[i] = arr1[i];\n",
        "\n",
        "    double start = omp_get_wtime();\n",
        "    parallelBubbleSort(arr1, SIZE);\n",
        "    printf(\"Parallel Bubble Sort Time: %f seconds\\n\", omp_get_wtime() - start);\n",
        "\n",
        "    start = omp_get_wtime();\n",
        "    parallelMergeSort(arr2, 0, SIZE - 1);\n",
        "    printf(\"Parallel Merge Sort Time: %f seconds\\n\", omp_get_wtime() - start);\n",
        "\n",
        "    return 0;\n",
        "}"
      ]
    },
    {
      "cell_type": "code",
      "execution_count": null,
      "metadata": {
        "id": "Ga1byKbIafq_"
      },
      "outputs": [],
      "source": [
        "!g++ -fopenmp bubble_merge_sort.cpp -o Sort"
      ]
    },
    {
      "cell_type": "code",
      "execution_count": null,
      "metadata": {
        "colab": {
          "base_uri": "https://localhost:8080/"
        },
        "id": "aHnXIS0Y2Z-o",
        "outputId": "d7dcd1b4-d7db-43a9-d548-8d2b5c288da0"
      },
      "outputs": [
        {
          "name": "stdout",
          "output_type": "stream",
          "text": [
            "Parallel Bubble Sort Time: 0.006775 seconds\n",
            "Parallel Merge Sort Time: 0.000835 seconds\n"
          ]
        }
      ],
      "source": [
        "!./Sort"
      ]
    }
  ],
  "metadata": {
    "colab": {
      "provenance": []
    },
    "kernelspec": {
      "display_name": "Python 3",
      "name": "python3"
    },
    "language_info": {
      "name": "python"
    }
  },
  "nbformat": 4,
  "nbformat_minor": 0
}
