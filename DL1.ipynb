{
  "nbformat": 4,
  "nbformat_minor": 0,
  "metadata": {
    "colab": {
      "provenance": []
    },
    "kernelspec": {
      "name": "python3",
      "display_name": "Python 3"
    },
    "language_info": {
      "name": "python"
    }
  },
  "cells": [
    {
      "cell_type": "code",
      "execution_count": 1,
      "metadata": {
        "id": "LDeg8UTE92tK"
      },
      "outputs": [],
      "source": [
        "import numpy as np\n",
        "import pandas as pd\n",
        "import matplotlib.pyplot as plt\n",
        "import warnings\n",
        "warnings.filterwarnings('ignore')\n",
        "from sklearn import datasets"
      ]
    },
    {
      "cell_type": "code",
      "source": [
        "boston = pd.read_csv(\"/content/BostonHousing.csv\")"
      ],
      "metadata": {
        "id": "XCmGmsV0-GJ_"
      },
      "execution_count": 2,
      "outputs": []
    },
    {
      "cell_type": "code",
      "source": [
        "print(\"Shape of dataset:\", boston.shape)"
      ],
      "metadata": {
        "colab": {
          "base_uri": "https://localhost:8080/"
        },
        "id": "t5FUB_vmATEA",
        "outputId": "8e41394b-4438-4291-f738-766ec39268aa"
      },
      "execution_count": 3,
      "outputs": [
        {
          "output_type": "stream",
          "name": "stdout",
          "text": [
            "Shape of dataset: (506, 14)\n"
          ]
        }
      ]
    },
    {
      "cell_type": "code",
      "source": [
        "print(boston.head())"
      ],
      "metadata": {
        "colab": {
          "base_uri": "https://localhost:8080/"
        },
        "id": "kNXOZffWAXwv",
        "outputId": "1de4bd2e-58fa-4bd8-f6f3-efa6a58000c0"
      },
      "execution_count": 4,
      "outputs": [
        {
          "output_type": "stream",
          "name": "stdout",
          "text": [
            "      crim    zn  indus  chas    nox     rm   age     dis  rad  tax  ptratio  \\\n",
            "0  0.00632  18.0   2.31     0  0.538  6.575  65.2  4.0900    1  296     15.3   \n",
            "1  0.02731   0.0   7.07     0  0.469  6.421  78.9  4.9671    2  242     17.8   \n",
            "2  0.02729   0.0   7.07     0  0.469  7.185  61.1  4.9671    2  242     17.8   \n",
            "3  0.03237   0.0   2.18     0  0.458  6.998  45.8  6.0622    3  222     18.7   \n",
            "4  0.06905   0.0   2.18     0  0.458  7.147  54.2  6.0622    3  222     18.7   \n",
            "\n",
            "        b  lstat  medv  \n",
            "0  396.90   4.98  24.0  \n",
            "1  396.90   9.14  21.6  \n",
            "2  392.83   4.03  34.7  \n",
            "3  394.63   2.94  33.4  \n",
            "4  396.90   5.33  36.2  \n"
          ]
        }
      ]
    },
    {
      "cell_type": "code",
      "source": [
        "print(boston.describe())"
      ],
      "metadata": {
        "colab": {
          "base_uri": "https://localhost:8080/"
        },
        "id": "dmHsBTG2BSpd",
        "outputId": "0bb61db5-6459-416f-c240-50ca7e4f41bc"
      },
      "execution_count": 5,
      "outputs": [
        {
          "output_type": "stream",
          "name": "stdout",
          "text": [
            "             crim          zn       indus        chas         nox          rm  \\\n",
            "count  506.000000  506.000000  506.000000  506.000000  506.000000  501.000000   \n",
            "mean     3.613524   11.363636   11.136779    0.069170    0.554695    6.284341   \n",
            "std      8.601545   23.322453    6.860353    0.253994    0.115878    0.705587   \n",
            "min      0.006320    0.000000    0.460000    0.000000    0.385000    3.561000   \n",
            "25%      0.082045    0.000000    5.190000    0.000000    0.449000    5.884000   \n",
            "50%      0.256510    0.000000    9.690000    0.000000    0.538000    6.208000   \n",
            "75%      3.677083   12.500000   18.100000    0.000000    0.624000    6.625000   \n",
            "max     88.976200  100.000000   27.740000    1.000000    0.871000    8.780000   \n",
            "\n",
            "              age         dis         rad         tax     ptratio           b  \\\n",
            "count  506.000000  506.000000  506.000000  506.000000  506.000000  506.000000   \n",
            "mean    68.574901    3.795043    9.549407  408.237154   18.455534  356.674032   \n",
            "std     28.148861    2.105710    8.707259  168.537116    2.164946   91.294864   \n",
            "min      2.900000    1.129600    1.000000  187.000000   12.600000    0.320000   \n",
            "25%     45.025000    2.100175    4.000000  279.000000   17.400000  375.377500   \n",
            "50%     77.500000    3.207450    5.000000  330.000000   19.050000  391.440000   \n",
            "75%     94.075000    5.188425   24.000000  666.000000   20.200000  396.225000   \n",
            "max    100.000000   12.126500   24.000000  711.000000   22.000000  396.900000   \n",
            "\n",
            "            lstat        medv  \n",
            "count  506.000000  506.000000  \n",
            "mean    12.653063   22.532806  \n",
            "std      7.141062    9.197104  \n",
            "min      1.730000    5.000000  \n",
            "25%      6.950000   17.025000  \n",
            "50%     11.360000   21.200000  \n",
            "75%     16.955000   25.000000  \n",
            "max     37.970000   50.000000  \n"
          ]
        }
      ]
    },
    {
      "cell_type": "code",
      "source": [
        "boston = boston.dropna()"
      ],
      "metadata": {
        "id": "jRJu-7pvBv-Q"
      },
      "execution_count": 6,
      "outputs": []
    },
    {
      "cell_type": "code",
      "source": [
        "x = boston.drop('medv', axis=1)\n",
        "y = boston['medv']"
      ],
      "metadata": {
        "id": "Hh6SUOsUBUZ6"
      },
      "execution_count": 11,
      "outputs": []
    },
    {
      "cell_type": "code",
      "source": [
        "from sklearn.model_selection import train_test_split\n",
        "xtrain, xtest, ytrain, ytest = train_test_split(x, y, test_size=0.2, random_state=42)"
      ],
      "metadata": {
        "id": "4lAA4H9ABYY1"
      },
      "execution_count": 12,
      "outputs": []
    },
    {
      "cell_type": "code",
      "source": [
        "print(\"xtrain shape:\", xtrain.shape)\n",
        "print(\"xtest shape:\", xtest.shape)\n",
        "print(\"ytrain shape:\", ytrain.shape)\n",
        "print(\"ytest shape:\", ytest.shape)"
      ],
      "metadata": {
        "colab": {
          "base_uri": "https://localhost:8080/"
        },
        "id": "dkiJFqwcBc0X",
        "outputId": "95565b0b-ad16-4753-e469-2db23979968d"
      },
      "execution_count": 13,
      "outputs": [
        {
          "output_type": "stream",
          "name": "stdout",
          "text": [
            "xtrain shape: (400, 13)\n",
            "xtest shape: (101, 13)\n",
            "ytrain shape: (400,)\n",
            "ytest shape: (101,)\n"
          ]
        }
      ]
    },
    {
      "cell_type": "code",
      "source": [
        "from sklearn.linear_model import LinearRegression\n",
        "lr = LinearRegression()\n",
        "lr.fit(xtrain, ytrain)\n",
        "y_pred = lr.predict(xtest)"
      ],
      "metadata": {
        "id": "4mbLfFmtBe7n"
      },
      "execution_count": 14,
      "outputs": []
    },
    {
      "cell_type": "code",
      "source": [
        "plt.figure(figsize=(8,6))\n",
        "plt.scatter(ytest, y_pred, c='green')\n",
        "plt.xlabel(\"True Prices (in $1000s)\")\n",
        "plt.ylabel(\"Predicted Prices\")\n",
        "plt.title(\"True vs Predicted Prices: Linear Regression\")\n",
        "plt.grid(True)\n",
        "plt.show()"
      ],
      "metadata": {
        "colab": {
          "base_uri": "https://localhost:8080/",
          "height": 564
        },
        "id": "wWGLZmaoBhBD",
        "outputId": "1e19f31b-29a1-46f8-dade-b03db6470aa5"
      },
      "execution_count": 15,
      "outputs": [
        {
          "output_type": "display_data",
          "data": {
            "text/plain": [
              "<Figure size 800x600 with 1 Axes>"
            ],
            "image/png": "[encoded data removed]"
          },
          "metadata": {}
        }
      ]
    },
    {
      "cell_type": "code",
      "source": [
        "from sklearn.metrics import mean_squared_error, mean_absolute_error\n",
        "mse = mean_squared_error(ytest, y_pred)\n",
        "mae = mean_absolute_error(ytest, y_pred)\n",
        "print(\"Mean Squared Error:\", mse)\n",
        "print(\"Mean Absolute Error:\", mae)"
      ],
      "metadata": {
        "colab": {
          "base_uri": "https://localhost:8080/"
        },
        "id": "44n8MLDuB0WC",
        "outputId": "095c2189-09b5-41af-a3bb-b56a3102030f"
      },
      "execution_count": 16,
      "outputs": [
        {
          "output_type": "stream",
          "name": "stdout",
          "text": [
            "Mean Squared Error: 20.687720473048476\n",
            "Mean Absolute Error: 3.2428569148106927\n"
          ]
        }
      ]
    }
  ]
}